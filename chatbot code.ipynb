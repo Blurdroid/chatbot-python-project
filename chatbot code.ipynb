{
 "cells": [
  {
   "cell_type": "code",
   "execution_count": 1,
   "metadata": {},
   "outputs": [],
   "source": [
    "from chatterbot import ChatBot\n",
    "from chatterbot.trainers import ListTrainer\n",
    "from flask import Flask, request, render_template\n",
    "from chatterbot.trainers import ChatterBotCorpusTrainer\n"
   ]
  },
  {
   "cell_type": "code",
   "execution_count": null,
   "metadata": {},
   "outputs": [],
   "source": []
  },
  {
   "cell_type": "code",
   "execution_count": 2,
   "metadata": {},
   "outputs": [],
   "source": [
    "import spacy"
   ]
  },
  {
   "cell_type": "code",
   "execution_count": 3,
   "metadata": {},
   "outputs": [],
   "source": [
    "import time\n",
    "time.clock = time.time"
   ]
  },
  {
   "cell_type": "code",
   "execution_count": 4,
   "metadata": {},
   "outputs": [
    {
     "name": "stderr",
     "output_type": "stream",
     "text": [
      "[nltk_data] Downloading package averaged_perceptron_tagger to\n",
      "[nltk_data]     C:\\Users\\ziad\\AppData\\Roaming\\nltk_data...\n",
      "[nltk_data]   Package averaged_perceptron_tagger is already up-to-\n",
      "[nltk_data]       date!\n",
      "[nltk_data] Downloading package punkt to\n",
      "[nltk_data]     C:\\Users\\ziad\\AppData\\Roaming\\nltk_data...\n",
      "[nltk_data]   Package punkt is already up-to-date!\n",
      "[nltk_data] Downloading package stopwords to\n",
      "[nltk_data]     C:\\Users\\ziad\\AppData\\Roaming\\nltk_data...\n",
      "[nltk_data]   Package stopwords is already up-to-date!\n"
     ]
    }
   ],
   "source": [
    "bot = ChatBot('ziad',\n",
    "             logic_adapters =  [ \n",
    "                    {\n",
    "                            'import_path': 'chatterbot.logic.BestMatch',\n",
    "                             'default_response': 'I am sorry, I do not understand. I am still learning, please contact  ziademadd20111@gmail.com for further assistance',\n",
    "                             'maximum_similarity_threshold': 0.90\n",
    "                    }\n",
    "             ],\n",
    "             read_only = True,\n",
    "             preprocessors=['chatterbot.preprocessors.clean_whitespace',\n",
    "                            'chatterbot.preprocessors.unescape_html',\n",
    "                            'chatterbot.preprocessors.convert_to_ascii']) #specify read_only parameter to True because we only want our chatbot to learn from our training data."
   ]
  },
  {
   "cell_type": "code",
   "execution_count": 5,
   "metadata": {},
   "outputs": [
    {
     "name": "stdout",
     "output_type": "stream",
     "text": [
      "Training ai.yml: [####################] 100%\n",
      "Training botprofile.yml: [####################] 100%\n",
      "Training computers.yml: [####################] 100%\n",
      "Training conversations.yml: [####################] 100%\n",
      "Training emotion.yml: [####################] 100%\n",
      "Training food.yml: [####################] 100%\n",
      "Training gossip.yml: [####################] 100%\n",
      "Training greetings.yml: [####################] 100%\n",
      "Training health.yml: [####################] 100%\n",
      "Training history.yml: [####################] 100%\n",
      "Training humor.yml: [####################] 100%\n",
      "Training literature.yml: [####################] 100%\n",
      "Training money.yml: [####################] 100%\n",
      "Training movies.yml: [####################] 100%\n",
      "Training politics.yml: [####################] 100%\n",
      "Training psychology.yml: [####################] 100%\n",
      "Training science.yml: [####################] 100%\n",
      "Training sports.yml: [####################] 100%\n",
      "Training trivia.yml: [####################] 100%\n"
     ]
    }
   ],
   "source": [
    "trainer = ChatterBotCorpusTrainer(bot)\n",
    "trainer.train('chatterbot.corpus.english') #pre built training "
   ]
  },
  {
   "cell_type": "code",
   "execution_count": 22,
   "metadata": {},
   "outputs": [
    {
     "name": "stdout",
     "output_type": "stream",
     "text": [
      "I am sorry, I do not understand. I am still learning, please contact  ziademadd20111@gmail.com for further assistance\n"
     ]
    }
   ],
   "source": [
    "response = bot.get_response ('omellete ?')\n",
    "print(response)"
   ]
  },
  {
   "cell_type": "code",
   "execution_count": null,
   "metadata": {},
   "outputs": [],
   "source": [
    "name = input(\"please enter your name:\")\n",
    "print(\"welcome to the bot service! let me know how can i help you..\")\n",
    "while True:\n",
    "    request = input(name+':')\n",
    "    if request =='Bye' or request =='bye':\n",
    "        break\n",
    "    else:\n",
    "        response = bot.get_response(request)\n",
    "        print('Bot:', response)"
   ]
  },
  {
   "cell_type": "code",
   "execution_count": 5,
   "metadata": {},
   "outputs": [
    {
     "name": "stdout",
     "output_type": "stream",
     "text": [
      "List Trainer: [####################] 100%\n"
     ]
    }
   ],
   "source": [
    "trainer= ListTrainer(bot) #custom training \n",
    "\n",
    "trainer.train([\n",
    "    \"Hi, can I help you\",\n",
    "    \"Who are you?\",\n",
    "    \"I am your virtual assistant. Ask me any questions...\",\n",
    "    \"What are the top 10 tourist destinations in the world?\",\n",
    "    \"According to recent surveys, the top 10 tourist destinations in the world are: France, Spain, the United States, China, Italy, Turkey, Mexico, Germany, Thailand, and the United Kingdom\",\n",
    "    \"What are the most popular programming languages in 2023?\",\n",
    "    \"The most popular programming languages in 2023 are predicted to be Python, JavaScript, Java, C++, and Swift, based on current trends and industry demand.\",\n",
    "    \"What are the top 5 highest-grossing films of all time?\",\n",
    "    \"As of 2023, the top 5 highest-grossing films of all time are Avatar, Titanic, Star Wars: The Force Awakens, Avengers: Infinity War, and Avengers: Endgame\",\n",
    "    \"What are the most popular social media platforms in 2023?\",\n",
    "    \"The most popular social media platforms in 2023 are predicted to be Facebook, Instagram, Twitter, TikTok, and LinkedIn, based on current usage statistics and user trends.\",  \n",
    "])"
   ]
  },
  {
   "cell_type": "code",
   "execution_count": 6,
   "metadata": {},
   "outputs": [
    {
     "name": "stdout",
     "output_type": "stream",
     "text": [
      " * Serving Flask app '__main__'\n",
      " * Debug mode: off\n"
     ]
    },
    {
     "name": "stderr",
     "output_type": "stream",
     "text": [
      "[nltk_data] Downloading package averaged_perceptron_tagger to\n",
      "[nltk_data]     C:\\Users\\ziad\\AppData\\Roaming\\nltk_data...\n",
      "[nltk_data]   Package averaged_perceptron_tagger is already up-to-\n",
      "[nltk_data]       date!\n",
      "[nltk_data] Downloading package punkt to\n",
      "[nltk_data]     C:\\Users\\ziad\\AppData\\Roaming\\nltk_data...\n",
      "[nltk_data]   Package punkt is already up-to-date!\n",
      "[nltk_data] Downloading package stopwords to\n",
      "[nltk_data]     C:\\Users\\ziad\\AppData\\Roaming\\nltk_data...\n",
      "[nltk_data]   Package stopwords is already up-to-date!\n",
      "WARNING: This is a development server. Do not use it in a production deployment. Use a production WSGI server instead.\n",
      " * Running on http://127.0.0.1:5000\n",
      "Press CTRL+C to quit\n",
      "127.0.0.1 - - [21/Apr/2023 20:37:38] \"GET / HTTP/1.1\" 200 -\n",
      "127.0.0.1 - - [21/Apr/2023 20:37:42] \"POST / HTTP/1.1\" 200 -\n",
      "Exception during reset or similar\n",
      "Traceback (most recent call last):\n",
      "  File \"c:\\Users\\ziad\\anaconda3\\lib\\site-packages\\sqlalchemy\\pool.py\", line 751, in _finalize_fairy\n",
      "    fairy._reset(pool)\n",
      "  File \"c:\\Users\\ziad\\anaconda3\\lib\\site-packages\\sqlalchemy\\pool.py\", line 938, in _reset\n",
      "    pool._dialect.do_rollback(self)\n",
      "  File \"c:\\Users\\ziad\\anaconda3\\lib\\site-packages\\sqlalchemy\\engine\\default.py\", line 486, in do_rollback\n",
      "    dbapi_connection.rollback()\n",
      "sqlite3.ProgrammingError: SQLite objects created in a thread can only be used in that same thread. The object was created in thread id 21132 and this is thread id 12500.\n",
      "Exception closing connection <sqlite3.Connection object at 0x000002164AD39E40>\n",
      "Traceback (most recent call last):\n",
      "  File \"c:\\Users\\ziad\\anaconda3\\lib\\site-packages\\sqlalchemy\\pool.py\", line 751, in _finalize_fairy\n",
      "    fairy._reset(pool)\n",
      "  File \"c:\\Users\\ziad\\anaconda3\\lib\\site-packages\\sqlalchemy\\pool.py\", line 938, in _reset\n",
      "    pool._dialect.do_rollback(self)\n",
      "  File \"c:\\Users\\ziad\\anaconda3\\lib\\site-packages\\sqlalchemy\\engine\\default.py\", line 486, in do_rollback\n",
      "    dbapi_connection.rollback()\n",
      "sqlite3.ProgrammingError: SQLite objects created in a thread can only be used in that same thread. The object was created in thread id 21132 and this is thread id 12500.\n",
      "\n",
      "During handling of the above exception, another exception occurred:\n",
      "\n",
      "Traceback (most recent call last):\n",
      "  File \"c:\\Users\\ziad\\anaconda3\\lib\\site-packages\\sqlalchemy\\pool.py\", line 342, in _close_connection\n",
      "    self._dialect.do_close(connection)\n",
      "  File \"c:\\Users\\ziad\\anaconda3\\lib\\site-packages\\sqlalchemy\\engine\\default.py\", line 492, in do_close\n",
      "    dbapi_connection.close()\n",
      "sqlite3.ProgrammingError: SQLite objects created in a thread can only be used in that same thread. The object was created in thread id 21132 and this is thread id 12500.\n",
      "127.0.0.1 - - [21/Apr/2023 20:37:58] \"POST / HTTP/1.1\" 200 -\n",
      "127.0.0.1 - - [21/Apr/2023 20:38:06] \"POST / HTTP/1.1\" 200 -\n",
      "[2023-04-21 20:38:11,770] ERROR in app: Exception on / [POST]\n",
      "Traceback (most recent call last):\n",
      "  File \"c:\\Users\\ziad\\anaconda3\\lib\\site-packages\\flask\\app.py\", line 2525, in wsgi_app\n",
      "    response = self.full_dispatch_request()\n",
      "  File \"c:\\Users\\ziad\\anaconda3\\lib\\site-packages\\flask\\app.py\", line 1823, in full_dispatch_request\n",
      "    return self.finalize_request(rv)\n",
      "  File \"c:\\Users\\ziad\\anaconda3\\lib\\site-packages\\flask\\app.py\", line 1842, in finalize_request\n",
      "    response = self.make_response(rv)\n",
      "  File \"c:\\Users\\ziad\\anaconda3\\lib\\site-packages\\flask\\app.py\", line 2134, in make_response\n",
      "    raise TypeError(\n",
      "TypeError: The view function for 'get_bot_response' did not return a valid response. The function either returned None or ended without a return statement.\n",
      "127.0.0.1 - - [21/Apr/2023 20:38:11] \"POST / HTTP/1.1\" 500 -\n"
     ]
    }
   ],
   "source": [
    "from flask import Flask, render_template, request\n",
    "from chatterbot import ChatBot\n",
    "from chatterbot.trainers import ListTrainer\n",
    "import time \n",
    "time.clock = time.time\n",
    "\n",
    "app = Flask(__name__)\n",
    "\n",
    "bot = ChatBot('ziad',\n",
    "             logic_adapters =  [ \n",
    "                    {\n",
    "                            'import_path': 'chatterbot.logic.BestMatch',\n",
    "                             'default_response': 'I am sorry, I do not understand. I am still learning, please contact  ziademadd20111@gmail.com for further assistance',\n",
    "                             'maximum_similarity_threshold': 0.90\n",
    "                    }\n",
    "             ],\n",
    "             read_only = True,\n",
    "             preprocessors=['chatterbot.preprocessors.clean_whitespace',\n",
    "                            'chatterbot.preprocessors.unescape_html',\n",
    "                            'chatterbot.preprocessors.convert_to_ascii']) #specify read_only parameter to True because we only want our chatbot to learn from our training data.\n",
    "\n",
    "trainer= ListTrainer(bot) #custom training \n",
    "\n",
    "# trainer.train([\n",
    "#     \"Hi, can I help you\",\n",
    "#     \"Who are you?\",\n",
    "#     \"I am your virtual assistant. Ask me any questions...\",\n",
    "#     \"What are the top 10 tourist destinations in the world?\",\n",
    "#     \"According to recent surveys, the top 10 tourist destinations in the world are: France, Spain, the United States, China, Italy, Turkey, Mexico, Germany, Thailand, and the United Kingdom\",\n",
    "#     \"What are the most popular programming languages in 2023?\",\n",
    "#     \"The most popular programming languages in 2023 are predicted to be Python, JavaScript, Java, C++, and Swift, based on current trends and industry demand.\",\n",
    "#     \"What are the top 5 highest-grossing films of all time?\",\n",
    "#     \"As of 2023, the top 5 highest-grossing films of all time are Avatar, Titanic, Star Wars: The Force Awakens, Avengers: Infinity War, and Avengers: Endgame\",\n",
    "#     \"What are the most popular social media platforms in 2023?\",\n",
    "#     \"The most popular social media platforms in 2023 are predicted to be Facebook, Instagram, Twitter, TikTok, and LinkedIn, based on current usage statistics and user trends.\",  \n",
    "# ])\n",
    "\n",
    "@app.route(\"/\")\n",
    "def home():\n",
    "    return render_template('index.html')\n",
    "\n",
    "@app.route(\"/\", methods = [\"GET\", \"POST\"])\n",
    "def get_bot_response():\n",
    "    if request.method == \"POST\":\n",
    "        while True:\n",
    "            user_input = request.form[\"message\"]\n",
    "            if user_input ==\"Bye\" or user_input ==\"bye\":\n",
    "                break\n",
    "            else:\n",
    "                bot_response = bot.get_response(user_input).text\n",
    "                return render_template('index.html',  user_message = user_input, bot_response = bot_response)\n",
    "    \n",
    "if __name__ == \"__main__\":\n",
    "    app.run()"
   ]
  }
 ],
 "metadata": {
  "kernelspec": {
   "display_name": "base",
   "language": "python",
   "name": "python3"
  },
  "language_info": {
   "codemirror_mode": {
    "name": "ipython",
    "version": 3
   },
   "file_extension": ".py",
   "mimetype": "text/x-python",
   "name": "python",
   "nbconvert_exporter": "python",
   "pygments_lexer": "ipython3",
   "version": "3.9.12"
  },
  "orig_nbformat": 4
 },
 "nbformat": 4,
 "nbformat_minor": 2
}
